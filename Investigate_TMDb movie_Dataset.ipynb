{
 "cells": [
  {
   "cell_type": "markdown",
   "metadata": {},
   "source": [
    "# Project: Investigate TMDb movie data\n",
    "\n",
    "## Table of Contents\n",
    "<ul>\n",
    "<li><a href=\"#intro\">Introduction</a></li>\n",
    "<li><a href=\"#wrangling\">Data Wrangling</a></li>\n",
    "<li><a href=\"#eda\">Exploratory Data Analysis</a></li>\n",
    "<li><a href=\"#conclusions\">Conclusions</a></li>\n",
    "</ul>"
   ]
  },
  {
   "cell_type": "markdown",
   "metadata": {},
   "source": [
    "<a id='intro'></a>\n",
    "## Introduction\n",
    "\n",
    ">In this dataset we will explore how different budgets perform, how releasing trends moved, and ranking directors performance.\n",
    ">I will try to answer the following questions:\n",
    "> * What are the most popular geners?\n",
    "> * What are the most profitable geners?\n",
    "> * What is the most profitable budget range?\n",
    "> * What does the trend of movie releases look like?\n",
    "> * The top 10 directors by sum profits?\n",
    "> * What is the relation between popularity and profitability?\n"
   ]
  },
  {
   "cell_type": "code",
   "execution_count": 1,
   "metadata": {},
   "outputs": [],
   "source": [
    "import pandas as pd\n",
    "import matplotlib.pyplot as plt\n",
    "import seaborn as sns\n",
    "% matplotlib inline\n",
    "import warnings\n",
    "warnings.filterwarnings('ignore')"
   ]
  },
  {
   "cell_type": "markdown",
   "metadata": {},
   "source": [
    "<a id='wrangling'></a>\n",
    "## Data Wrangling\n",
    "\n",
    "\n",
    "\n",
    "### General Properties"
   ]
  },
  {
   "cell_type": "code",
   "execution_count": 2,
   "metadata": {},
   "outputs": [
    {
     "name": "stdout",
     "output_type": "stream",
     "text": [
      "<class 'pandas.core.frame.DataFrame'>\n",
      "RangeIndex: 10866 entries, 0 to 10865\n",
      "Data columns (total 21 columns):\n",
      "id                      10866 non-null int64\n",
      "imdb_id                 10856 non-null object\n",
      "popularity              10866 non-null float64\n",
      "budget                  10866 non-null int64\n",
      "revenue                 10866 non-null int64\n",
      "original_title          10866 non-null object\n",
      "cast                    10790 non-null object\n",
      "homepage                2936 non-null object\n",
      "director                10822 non-null object\n",
      "tagline                 8042 non-null object\n",
      "keywords                9373 non-null object\n",
      "overview                10862 non-null object\n",
      "runtime                 10866 non-null int64\n",
      "genres                  10843 non-null object\n",
      "production_companies    9836 non-null object\n",
      "release_date            10866 non-null object\n",
      "vote_count              10866 non-null int64\n",
      "vote_average            10866 non-null float64\n",
      "release_year            10866 non-null int64\n",
      "budget_adj              10866 non-null float64\n",
      "revenue_adj             10866 non-null float64\n",
      "dtypes: float64(4), int64(6), object(11)\n",
      "memory usage: 1.7+ MB\n"
     ]
    }
   ],
   "source": [
    "df = pd.read_csv('tmdb-movies.csv'); #Loading the data...\n",
    "df.info() #Looking at column names and null value counts.\n",
    "# Most of the columns with null values are not needed to answer my questions."
   ]
  },
  {
   "cell_type": "code",
   "execution_count": 3,
   "metadata": {},
   "outputs": [
    {
     "data": {
      "text/html": [
       "<div>\n",
       "<style scoped>\n",
       "    .dataframe tbody tr th:only-of-type {\n",
       "        vertical-align: middle;\n",
       "    }\n",
       "\n",
       "    .dataframe tbody tr th {\n",
       "        vertical-align: top;\n",
       "    }\n",
       "\n",
       "    .dataframe thead th {\n",
       "        text-align: right;\n",
       "    }\n",
       "</style>\n",
       "<table border=\"1\" class=\"dataframe\">\n",
       "  <thead>\n",
       "    <tr style=\"text-align: right;\">\n",
       "      <th></th>\n",
       "      <th>id</th>\n",
       "      <th>popularity</th>\n",
       "      <th>budget</th>\n",
       "      <th>revenue</th>\n",
       "      <th>runtime</th>\n",
       "      <th>vote_count</th>\n",
       "      <th>vote_average</th>\n",
       "      <th>release_year</th>\n",
       "      <th>budget_adj</th>\n",
       "      <th>revenue_adj</th>\n",
       "    </tr>\n",
       "  </thead>\n",
       "  <tbody>\n",
       "    <tr>\n",
       "      <th>count</th>\n",
       "      <td>10866.000000</td>\n",
       "      <td>10866.000000</td>\n",
       "      <td>1.086600e+04</td>\n",
       "      <td>1.086600e+04</td>\n",
       "      <td>10866.000000</td>\n",
       "      <td>10866.000000</td>\n",
       "      <td>10866.000000</td>\n",
       "      <td>10866.000000</td>\n",
       "      <td>1.086600e+04</td>\n",
       "      <td>1.086600e+04</td>\n",
       "    </tr>\n",
       "    <tr>\n",
       "      <th>mean</th>\n",
       "      <td>66064.177434</td>\n",
       "      <td>0.646441</td>\n",
       "      <td>1.462570e+07</td>\n",
       "      <td>3.982332e+07</td>\n",
       "      <td>102.070863</td>\n",
       "      <td>217.389748</td>\n",
       "      <td>5.974922</td>\n",
       "      <td>2001.322658</td>\n",
       "      <td>1.755104e+07</td>\n",
       "      <td>5.136436e+07</td>\n",
       "    </tr>\n",
       "    <tr>\n",
       "      <th>std</th>\n",
       "      <td>92130.136561</td>\n",
       "      <td>1.000185</td>\n",
       "      <td>3.091321e+07</td>\n",
       "      <td>1.170035e+08</td>\n",
       "      <td>31.381405</td>\n",
       "      <td>575.619058</td>\n",
       "      <td>0.935142</td>\n",
       "      <td>12.812941</td>\n",
       "      <td>3.430616e+07</td>\n",
       "      <td>1.446325e+08</td>\n",
       "    </tr>\n",
       "    <tr>\n",
       "      <th>min</th>\n",
       "      <td>5.000000</td>\n",
       "      <td>0.000065</td>\n",
       "      <td>0.000000e+00</td>\n",
       "      <td>0.000000e+00</td>\n",
       "      <td>0.000000</td>\n",
       "      <td>10.000000</td>\n",
       "      <td>1.500000</td>\n",
       "      <td>1960.000000</td>\n",
       "      <td>0.000000e+00</td>\n",
       "      <td>0.000000e+00</td>\n",
       "    </tr>\n",
       "    <tr>\n",
       "      <th>25%</th>\n",
       "      <td>10596.250000</td>\n",
       "      <td>0.207583</td>\n",
       "      <td>0.000000e+00</td>\n",
       "      <td>0.000000e+00</td>\n",
       "      <td>90.000000</td>\n",
       "      <td>17.000000</td>\n",
       "      <td>5.400000</td>\n",
       "      <td>1995.000000</td>\n",
       "      <td>0.000000e+00</td>\n",
       "      <td>0.000000e+00</td>\n",
       "    </tr>\n",
       "    <tr>\n",
       "      <th>50%</th>\n",
       "      <td>20669.000000</td>\n",
       "      <td>0.383856</td>\n",
       "      <td>0.000000e+00</td>\n",
       "      <td>0.000000e+00</td>\n",
       "      <td>99.000000</td>\n",
       "      <td>38.000000</td>\n",
       "      <td>6.000000</td>\n",
       "      <td>2006.000000</td>\n",
       "      <td>0.000000e+00</td>\n",
       "      <td>0.000000e+00</td>\n",
       "    </tr>\n",
       "    <tr>\n",
       "      <th>75%</th>\n",
       "      <td>75610.000000</td>\n",
       "      <td>0.713817</td>\n",
       "      <td>1.500000e+07</td>\n",
       "      <td>2.400000e+07</td>\n",
       "      <td>111.000000</td>\n",
       "      <td>145.750000</td>\n",
       "      <td>6.600000</td>\n",
       "      <td>2011.000000</td>\n",
       "      <td>2.085325e+07</td>\n",
       "      <td>3.369710e+07</td>\n",
       "    </tr>\n",
       "    <tr>\n",
       "      <th>max</th>\n",
       "      <td>417859.000000</td>\n",
       "      <td>32.985763</td>\n",
       "      <td>4.250000e+08</td>\n",
       "      <td>2.781506e+09</td>\n",
       "      <td>900.000000</td>\n",
       "      <td>9767.000000</td>\n",
       "      <td>9.200000</td>\n",
       "      <td>2015.000000</td>\n",
       "      <td>4.250000e+08</td>\n",
       "      <td>2.827124e+09</td>\n",
       "    </tr>\n",
       "  </tbody>\n",
       "</table>\n",
       "</div>"
      ],
      "text/plain": [
       "                  id    popularity        budget       revenue       runtime  \\\n",
       "count   10866.000000  10866.000000  1.086600e+04  1.086600e+04  10866.000000   \n",
       "mean    66064.177434      0.646441  1.462570e+07  3.982332e+07    102.070863   \n",
       "std     92130.136561      1.000185  3.091321e+07  1.170035e+08     31.381405   \n",
       "min         5.000000      0.000065  0.000000e+00  0.000000e+00      0.000000   \n",
       "25%     10596.250000      0.207583  0.000000e+00  0.000000e+00     90.000000   \n",
       "50%     20669.000000      0.383856  0.000000e+00  0.000000e+00     99.000000   \n",
       "75%     75610.000000      0.713817  1.500000e+07  2.400000e+07    111.000000   \n",
       "max    417859.000000     32.985763  4.250000e+08  2.781506e+09    900.000000   \n",
       "\n",
       "         vote_count  vote_average  release_year    budget_adj   revenue_adj  \n",
       "count  10866.000000  10866.000000  10866.000000  1.086600e+04  1.086600e+04  \n",
       "mean     217.389748      5.974922   2001.322658  1.755104e+07  5.136436e+07  \n",
       "std      575.619058      0.935142     12.812941  3.430616e+07  1.446325e+08  \n",
       "min       10.000000      1.500000   1960.000000  0.000000e+00  0.000000e+00  \n",
       "25%       17.000000      5.400000   1995.000000  0.000000e+00  0.000000e+00  \n",
       "50%       38.000000      6.000000   2006.000000  0.000000e+00  0.000000e+00  \n",
       "75%      145.750000      6.600000   2011.000000  2.085325e+07  3.369710e+07  \n",
       "max     9767.000000      9.200000   2015.000000  4.250000e+08  2.827124e+09  "
      ]
     },
     "execution_count": 3,
     "metadata": {},
     "output_type": "execute_result"
    }
   ],
   "source": [
    "df.describe() #Deeper look at numerical values, I see zeroes in budget and revenue at (min, 25%, 50%)!"
   ]
  },
  {
   "cell_type": "code",
   "execution_count": 4,
   "metadata": {},
   "outputs": [
    {
     "name": "stdout",
     "output_type": "stream",
     "text": [
      "Total zero budget: 5696\n",
      "Total zero revenue: 6016\n",
      "Ratio of zero budget: %52.4\n",
      "Ratio of zero revenue: %55.3\n",
      "Total zero budget and zero revenue: 4701\n"
     ]
    }
   ],
   "source": [
    "print('Total zero budget: ' + str(df[df['budget_adj'] == 0].shape[0]))\n",
    "print('Total zero revenue: ' + str(df[df['revenue_adj'] == 0].shape[0]))\n",
    "print('Ratio of zero budget: %' + str((df[df['budget_adj'] == 0].shape[0]/df.shape[0]) * 100)[0:4])\n",
    "print('Ratio of zero revenue: %' + str((df[df['revenue_adj'] == 0].shape[0]/df.shape[0]) * 100)[0:4])\n",
    "print('Total zero budget and zero revenue: ' + str((df[(df['budget_adj'] == 0) & (df['revenue_adj'] == 0)].shape[0])))\n",
    "# More than half of movies have 0 budget."
   ]
  },
  {
   "cell_type": "markdown",
   "metadata": {},
   "source": [
    "### Data Cleaning"
   ]
  },
  {
   "cell_type": "code",
   "execution_count": 5,
   "metadata": {},
   "outputs": [
    {
     "data": {
      "text/html": [
       "<div>\n",
       "<style scoped>\n",
       "    .dataframe tbody tr th:only-of-type {\n",
       "        vertical-align: middle;\n",
       "    }\n",
       "\n",
       "    .dataframe tbody tr th {\n",
       "        vertical-align: top;\n",
       "    }\n",
       "\n",
       "    .dataframe thead th {\n",
       "        text-align: right;\n",
       "    }\n",
       "</style>\n",
       "<table border=\"1\" class=\"dataframe\">\n",
       "  <thead>\n",
       "    <tr style=\"text-align: right;\">\n",
       "      <th></th>\n",
       "      <th>id</th>\n",
       "      <th>popularity</th>\n",
       "      <th>budget</th>\n",
       "      <th>revenue</th>\n",
       "      <th>runtime</th>\n",
       "      <th>vote_count</th>\n",
       "      <th>vote_average</th>\n",
       "      <th>release_year</th>\n",
       "      <th>budget_adj</th>\n",
       "      <th>revenue_adj</th>\n",
       "      <th>profits</th>\n",
       "    </tr>\n",
       "  </thead>\n",
       "  <tbody>\n",
       "    <tr>\n",
       "      <th>count</th>\n",
       "      <td>3834.000000</td>\n",
       "      <td>3834.000000</td>\n",
       "      <td>3.834000e+03</td>\n",
       "      <td>3.834000e+03</td>\n",
       "      <td>3834.000000</td>\n",
       "      <td>3834.000000</td>\n",
       "      <td>3834.000000</td>\n",
       "      <td>3834.000000</td>\n",
       "      <td>3.834000e+03</td>\n",
       "      <td>3.834000e+03</td>\n",
       "      <td>3.834000e+03</td>\n",
       "    </tr>\n",
       "    <tr>\n",
       "      <th>mean</th>\n",
       "      <td>39855.732916</td>\n",
       "      <td>1.195565</td>\n",
       "      <td>3.739777e+07</td>\n",
       "      <td>1.082477e+08</td>\n",
       "      <td>109.262389</td>\n",
       "      <td>530.093375</td>\n",
       "      <td>6.169484</td>\n",
       "      <td>2001.265258</td>\n",
       "      <td>4.447077e+07</td>\n",
       "      <td>1.377791e+08</td>\n",
       "      <td>9.330828e+07</td>\n",
       "    </tr>\n",
       "    <tr>\n",
       "      <th>std</th>\n",
       "      <td>67258.759115</td>\n",
       "      <td>1.477799</td>\n",
       "      <td>4.223234e+07</td>\n",
       "      <td>1.768278e+08</td>\n",
       "      <td>19.864385</td>\n",
       "      <td>881.580019</td>\n",
       "      <td>0.794934</td>\n",
       "      <td>11.286502</td>\n",
       "      <td>4.481161e+07</td>\n",
       "      <td>2.164473e+08</td>\n",
       "      <td>1.944613e+08</td>\n",
       "    </tr>\n",
       "    <tr>\n",
       "      <th>min</th>\n",
       "      <td>5.000000</td>\n",
       "      <td>0.001117</td>\n",
       "      <td>1.130000e+02</td>\n",
       "      <td>2.000000e+00</td>\n",
       "      <td>26.000000</td>\n",
       "      <td>10.000000</td>\n",
       "      <td>2.200000</td>\n",
       "      <td>1960.000000</td>\n",
       "      <td>2.248029e+02</td>\n",
       "      <td>2.370705e+00</td>\n",
       "      <td>-4.139124e+08</td>\n",
       "    </tr>\n",
       "    <tr>\n",
       "      <th>25%</th>\n",
       "      <td>6069.000000</td>\n",
       "      <td>0.463931</td>\n",
       "      <td>1.000000e+07</td>\n",
       "      <td>1.400000e+07</td>\n",
       "      <td>96.000000</td>\n",
       "      <td>72.000000</td>\n",
       "      <td>5.700000</td>\n",
       "      <td>1995.000000</td>\n",
       "      <td>1.329642e+07</td>\n",
       "      <td>1.875393e+07</td>\n",
       "      <td>-1.621661e+06</td>\n",
       "    </tr>\n",
       "    <tr>\n",
       "      <th>50%</th>\n",
       "      <td>11302.000000</td>\n",
       "      <td>0.801529</td>\n",
       "      <td>2.400000e+07</td>\n",
       "      <td>4.551682e+07</td>\n",
       "      <td>106.000000</td>\n",
       "      <td>205.500000</td>\n",
       "      <td>6.200000</td>\n",
       "      <td>2004.000000</td>\n",
       "      <td>3.029664e+07</td>\n",
       "      <td>6.206345e+07</td>\n",
       "      <td>2.788427e+07</td>\n",
       "    </tr>\n",
       "    <tr>\n",
       "      <th>75%</th>\n",
       "      <td>38517.750000</td>\n",
       "      <td>1.377080</td>\n",
       "      <td>5.000000e+07</td>\n",
       "      <td>1.248613e+08</td>\n",
       "      <td>119.000000</td>\n",
       "      <td>582.000000</td>\n",
       "      <td>6.700000</td>\n",
       "      <td>2010.000000</td>\n",
       "      <td>6.076720e+07</td>\n",
       "      <td>1.646624e+08</td>\n",
       "      <td>1.080047e+08</td>\n",
       "    </tr>\n",
       "    <tr>\n",
       "      <th>max</th>\n",
       "      <td>417859.000000</td>\n",
       "      <td>32.985763</td>\n",
       "      <td>4.250000e+08</td>\n",
       "      <td>2.781506e+09</td>\n",
       "      <td>338.000000</td>\n",
       "      <td>9767.000000</td>\n",
       "      <td>8.400000</td>\n",
       "      <td>2015.000000</td>\n",
       "      <td>4.250000e+08</td>\n",
       "      <td>2.827124e+09</td>\n",
       "      <td>2.750137e+09</td>\n",
       "    </tr>\n",
       "  </tbody>\n",
       "</table>\n",
       "</div>"
      ],
      "text/plain": [
       "                  id   popularity        budget       revenue      runtime  \\\n",
       "count    3834.000000  3834.000000  3.834000e+03  3.834000e+03  3834.000000   \n",
       "mean    39855.732916     1.195565  3.739777e+07  1.082477e+08   109.262389   \n",
       "std     67258.759115     1.477799  4.223234e+07  1.768278e+08    19.864385   \n",
       "min         5.000000     0.001117  1.130000e+02  2.000000e+00    26.000000   \n",
       "25%      6069.000000     0.463931  1.000000e+07  1.400000e+07    96.000000   \n",
       "50%     11302.000000     0.801529  2.400000e+07  4.551682e+07   106.000000   \n",
       "75%     38517.750000     1.377080  5.000000e+07  1.248613e+08   119.000000   \n",
       "max    417859.000000    32.985763  4.250000e+08  2.781506e+09   338.000000   \n",
       "\n",
       "        vote_count  vote_average  release_year    budget_adj   revenue_adj  \\\n",
       "count  3834.000000   3834.000000   3834.000000  3.834000e+03  3.834000e+03   \n",
       "mean    530.093375      6.169484   2001.265258  4.447077e+07  1.377791e+08   \n",
       "std     881.580019      0.794934     11.286502  4.481161e+07  2.164473e+08   \n",
       "min      10.000000      2.200000   1960.000000  2.248029e+02  2.370705e+00   \n",
       "25%      72.000000      5.700000   1995.000000  1.329642e+07  1.875393e+07   \n",
       "50%     205.500000      6.200000   2004.000000  3.029664e+07  6.206345e+07   \n",
       "75%     582.000000      6.700000   2010.000000  6.076720e+07  1.646624e+08   \n",
       "max    9767.000000      8.400000   2015.000000  4.250000e+08  2.827124e+09   \n",
       "\n",
       "            profits  \n",
       "count  3.834000e+03  \n",
       "mean   9.330828e+07  \n",
       "std    1.944613e+08  \n",
       "min   -4.139124e+08  \n",
       "25%   -1.621661e+06  \n",
       "50%    2.788427e+07  \n",
       "75%    1.080047e+08  \n",
       "max    2.750137e+09  "
      ]
     },
     "execution_count": 5,
     "metadata": {},
     "output_type": "execute_result"
    }
   ],
   "source": [
    "# Most of my questions rely on profitabilty data, \n",
    "# I will have to ignore records with very low budget and zero revenue when answering those questions(1, 3, 4).\n",
    "profitabilty_df = df[(df['budget_adj'] > 100) & (df['revenue_adj'] > 0)] \n",
    "\n",
    "# Make a column for profits.\n",
    "profitabilty_df['profits'] = profitabilty_df['revenue_adj'] - profitabilty_df['budget_adj']\n",
    "\n",
    "# Drop duplicates.\n",
    "profitabilty_df.drop_duplicates(inplace = True)\n",
    "\n",
    "# Let's take a look at the filtered data set...\n",
    "profitabilty_df.describe()"
   ]
  },
  {
   "cell_type": "markdown",
   "metadata": {},
   "source": [
    "<a id='eda'></a>\n",
    "## Exploratory Data Analysis\n",
    "\n",
    "### What are the most popular geners?"
   ]
  },
  {
   "cell_type": "code",
   "execution_count": 6,
   "metadata": {},
   "outputs": [
    {
     "name": "stdout",
     "output_type": "stream",
     "text": [
      "Action|Adventure|Animation|Science Fiction|Thriller\n"
     ]
    }
   ],
   "source": [
    "# let's see the longest string in geners.\n",
    "field_length = df.genres.astype(str).map(len)\n",
    "print(df.loc[field_length.argmax(), 'genres'])\n",
    "# At most, geners column can have 5 geners.\n",
    "\n",
    "# I made a list of all geners\n",
    "geners = ['Action', 'Adventure', 'Animation', 'Comedy', 'Crime', 'Documentary', 'Drama', 'Family', 'Fantasy', 'Foreign',\n",
    "          'Horror', 'History', 'War', 'Mystery', 'Romance', 'Thriller', 'Music', 'TV Movie', 'Western', 'Science Fiction']\n",
    "\n",
    "# I will have to seperate the geners.\n",
    "df[['g1','g2','g3','g4','g5']] = df['genres'].str.split(\"|\",expand=True,)\n",
    "profitabilty_df[['g1','g2','g3','g4','g5']] = profitabilty_df['genres'].str.split(\"|\",expand=True,)\n",
    "\n",
    "# I will make a binary column for each gener in 'geners' list declared in the cell above.\n",
    "def reset_flags():\n",
    "    for g in geners:\n",
    "        df[str(g)] = 0\n",
    "        profitabilty_df[str(g)] = 0\n",
    "        df[str(g)][(df['g1'] == str(g)) |\n",
    "                                (df['g2'] == str(g)) |\n",
    "                                (df['g3'] == str(g)) |\n",
    "                                (df['g4'] == str(g)) |\n",
    "                                (df['g5'] == str(g))] = 1\n",
    "        profitabilty_df[str(g)][(profitabilty_df['g1'] == str(g)) |\n",
    "                                (profitabilty_df['g2'] == str(g)) |\n",
    "                                (profitabilty_df['g3'] == str(g)) |\n",
    "                                (profitabilty_df['g4'] == str(g)) |\n",
    "                                (profitabilty_df['g5'] == str(g))] = 1\n",
    "reset_flags()"
   ]
  },
  {
   "cell_type": "code",
   "execution_count": 7,
   "metadata": {},
   "outputs": [],
   "source": [
    "# I will store each gener average popularity in a column.\n",
    "for g in geners:\n",
    "    df[str(g)] = df[df[str(g)] == 1]['popularity'].mean()"
   ]
  },
  {
   "cell_type": "code",
   "execution_count": 8,
   "metadata": {},
   "outputs": [
    {
     "data": {
      "image/png": "[encoded data removed]",
      "text/plain": [
       "<matplotlib.figure.Figure at 0x7f2db76f64a8>"
      ]
     },
     "metadata": {
      "needs_background": "light"
     },
     "output_type": "display_data"
    }
   ],
   "source": [
    "df.loc[0, 'Action':'Science Fiction'].plot(kind='bar', title='Mean popularity sore for each gener');"
   ]
  },
  {
   "cell_type": "markdown",
   "metadata": {},
   "source": [
    "#### Reasoning \n",
    "* I thought 'Action' will be the top popular gener.\n",
    "* The top 3 are Science Fiction, Adventure and Fantasy.\n",
    "* The bottom 3 typicly are Foreign, Documentary and TV Movie(Low total number)."
   ]
  },
  {
   "cell_type": "markdown",
   "metadata": {},
   "source": [
    "### What are the most profitable geners?"
   ]
  },
  {
   "cell_type": "code",
   "execution_count": 9,
   "metadata": {},
   "outputs": [],
   "source": [
    "# I will store each gener average profits in a column.\n",
    "reset_flags()\n",
    "for g in geners:\n",
    "    profitabilty_df[str(g)] = profitabilty_df[profitabilty_df[str(g)] == 1]['profits'].mean()"
   ]
  },
  {
   "cell_type": "code",
   "execution_count": 10,
   "metadata": {},
   "outputs": [
    {
     "data": {
      "image/png": "[encoded data removed]",
      "text/plain": [
       "<matplotlib.figure.Figure at 0x7f2db70a0f98>"
      ]
     },
     "metadata": {
      "needs_background": "light"
     },
     "output_type": "display_data"
    }
   ],
   "source": [
    "profitabilty_df.loc[0, 'Action':'Science Fiction'].plot(kind='bar', title='Mean profits for each gener in 100M');"
   ]
  },
  {
   "cell_type": "markdown",
   "metadata": {},
   "source": [
    "#### Reasoning \n",
    "* I thought the most popular are the most profitable, but that is not the case here for some geners.\n",
    "* The top 4 are Animation, Adventure, Family and Fantasy.\n",
    "* The bottom 3 typicly are Foreign, Documentary and TV Movie; like the least popular ones."
   ]
  },
  {
   "cell_type": "markdown",
   "metadata": {},
   "source": [
    "### What is the most profitable budget range?"
   ]
  },
  {
   "cell_type": "code",
   "execution_count": 11,
   "metadata": {},
   "outputs": [
    {
     "data": {
      "image/png": "[encoded data removed]",
      "text/plain": [
       "<matplotlib.figure.Figure at 0x7f2db7cfd080>"
      ]
     },
     "metadata": {},
     "output_type": "display_data"
    }
   ],
   "source": [
    "# I'll divide budgets into groubs to make answering the question easier.\n",
    "profitabilty_df['budget_range'] = ''\n",
    "profitabilty_df['budget_range'][profitabilty_df['budget_adj'] <= 5000000] = '0 - 5M'\n",
    "profitabilty_df['budget_range'][profitabilty_df['budget_adj'] > 5000000] = '5M - 10M'\n",
    "profitabilty_df['budget_range'][profitabilty_df['budget_adj'] > 10000000] = '10M - 25M'\n",
    "profitabilty_df['budget_range'][profitabilty_df['budget_adj'] > 25000000] = '25M - 50M'\n",
    "profitabilty_df['budget_range'][profitabilty_df['budget_adj'] > 50000000] = '50M - 100M'\n",
    "profitabilty_df['budget_range'][profitabilty_df['budget_adj'] > 100000000] = '100M - 250M'\n",
    "profitabilty_df['budget_range'][profitabilty_df['budget_adj'] > 250000000] = '>250M'\n",
    "\n",
    "# let's see the distribution...\n",
    "profitabilty_df['budget_range'].value_counts().plot(kind='pie', title='Number of movies by budget range');\n",
    "# Most movies are between 10M-50M dollar budget."
   ]
  },
  {
   "cell_type": "code",
   "execution_count": 12,
   "metadata": {},
   "outputs": [
    {
     "data": {
      "image/png": "[encoded data removed]",
      "text/plain": [
       "<matplotlib.figure.Figure at 0x7f2db7d6ee10>"
      ]
     },
     "metadata": {
      "needs_background": "light"
     },
     "output_type": "display_data"
    }
   ],
   "source": [
    "profitabilty_df.groupby(['budget_range'])['profits'].mean().plot(kind='bar', title='Mean profits in 100M for movies in budget range');\n",
    "# Unsurprisingly, Higher budget usually brings higher profits."
   ]
  },
  {
   "cell_type": "markdown",
   "metadata": {},
   "source": [
    "#### Reasoning \n",
    "* I thought the most expensive movies will get more profits but not that much!\n",
    "* The trend is clear, on average more budget means more profits."
   ]
  },
  {
   "cell_type": "markdown",
   "metadata": {},
   "source": [
    "### What does the trend of movie releases look like?"
   ]
  },
  {
   "cell_type": "code",
   "execution_count": null,
   "metadata": {},
   "outputs": [],
   "source": [
    "profitabilty_df.groupby('release_year')['original_title'].count().plot(kind='line', title='Number of movies released each year');\n",
    "# An accelerating trend slowing down near 2005."
   ]
  },
  {
   "cell_type": "markdown",
   "metadata": {},
   "source": [
    "#### Reasoning \n",
    "* I thought movies will low and rise quickly as time goes, it appears that was the case for the most part.\n",
    "* What helped the medium is better internet and major platforms like Netflix(founded in 1997)."
   ]
  },
  {
   "cell_type": "markdown",
   "metadata": {},
   "source": [
    "### The top 10 directors by sum profits?"
   ]
  },
  {
   "cell_type": "code",
   "execution_count": null,
   "metadata": {},
   "outputs": [],
   "source": [
    "profitabilty_df.groupby('director')['profits'].sum().nlargest(10).plot(kind='bar', title='Sum of profits for the top 10 directors in 100M');\n",
    "# The top director by far is Steven Spielberg (32 movies)."
   ]
  },
  {
   "cell_type": "markdown",
   "metadata": {},
   "source": [
    "#### Reasoning \n",
    "* The first one directed the highest number of movies and was the most profitable director.\n",
    "* The second 2 directors directed way less movies but did make more profit than the rest directors, less quantity more quality."
   ]
  },
  {
   "cell_type": "markdown",
   "metadata": {},
   "source": [
    "###  What is the relation between popularity and profitability?"
   ]
  },
  {
   "cell_type": "code",
   "execution_count": null,
   "metadata": {},
   "outputs": [],
   "source": [
    "sns.regplot(x = \"popularity\", y=\"profits\", data=profitabilty_df);\n",
    "# I see there is a positive relationship, but it's not clean and predictable.\n",
    "# I see a few unpopular movies making huge profits and highly popular movies making modest profits."
   ]
  },
  {
   "cell_type": "markdown",
   "metadata": {},
   "source": [
    "#### Reasoning \n",
    "* I thought the trend will be positive and cleaner, looks like it's just positive."
   ]
  },
  {
   "cell_type": "markdown",
   "metadata": {},
   "source": [
    "<a id='conclusions'></a>\n",
    "## Conclusions\n",
    "\n",
    "* I was a bit surprised at how ROI of some movies seemed astronomical, I got confused and I was about to delete valid entries, I checked some movies to validate and decided to adjust my cleaning conditions accordingly.\n",
    "* %72 of movies with disclosed budget and revenue made positive returns.\n",
    "* At least %52.4 of movies have no data about budget or revenue.\n",
    "\n",
    "#### Limitations\n",
    "* The data lack some details about popularity and how it was calculated, I read about it in this website: https://developers.themoviedb.org/3/getting-started/popularity"
   ]
  },
  {
   "cell_type": "code",
   "execution_count": 20,
   "metadata": {},
   "outputs": [
    {
     "data": {
      "text/plain": [
       "0"
      ]
     },
     "execution_count": 20,
     "metadata": {},
     "output_type": "execute_result"
    }
   ],
   "source": [
    "from subprocess import call\n",
    "call(['python', '-m', 'nbconvert', 'Investigate_a_Dataset.ipynb'])"
   ]
  },
  {
   "cell_type": "code",
   "execution_count": null,
   "metadata": {},
   "outputs": [],
   "source": []
  }
 ],
 "metadata": {
  "kernelspec": {
   "display_name": "Python 3",
   "language": "python",
   "name": "python3"
  },
  "language_info": {
   "codemirror_mode": {
    "name": "ipython",
    "version": 3
   },
   "file_extension": ".py",
   "mimetype": "text/x-python",
   "name": "python",
   "nbconvert_exporter": "python",
   "pygments_lexer": "ipython3",
   "version": "3.6.3"
  }
 },
 "nbformat": 4,
 "nbformat_minor": 2
}
